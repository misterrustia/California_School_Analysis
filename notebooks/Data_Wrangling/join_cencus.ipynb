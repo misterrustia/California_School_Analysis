{
 "cells": [
  {
   "cell_type": "code",
   "execution_count": 2,
   "id": "97654e5f-bd65-4897-be61-6af0a5acbbe1",
   "metadata": {},
   "outputs": [],
   "source": [
    "import pandas as pd\n",
    "import numpy as np \n",
    "import dabl\n",
    "import seaborn as sns\n",
    "import matplotlib.pyplot as plt"
   ]
  },
  {
   "cell_type": "markdown",
   "id": "e2c4219b-d721-4923-9400-6e30eff40da1",
   "metadata": {},
   "source": [
    "## join fte+scores to cencus_poverty \n",
    "\n",
    "Notebook # 3 \n",
    "\n",
    "- 1 = connect scores to school labels\n",
    "- 2 = connect labeled scores to staffing-- and district data? (fte)\n",
    "- 3 = connect all school data to community poverty data from cencus\n",
    "- 4= connect all school community data to yelp community data"
   ]
  },
  {
   "cell_type": "code",
   "execution_count": 5,
   "id": "a40720ea-e67c-4eb8-909a-4ac19210cfea",
   "metadata": {},
   "outputs": [],
   "source": [
    "comdf = pd.read_csv('../../data/processed/fte_cleaned_labels.csv')\n"
   ]
  },
  {
   "cell_type": "code",
   "execution_count": 6,
   "id": "e8293f4c-06d6-43a0-be30-00456c79fc66",
   "metadata": {},
   "outputs": [
    {
     "name": "stdout",
     "output_type": "stream",
     "text": [
      "<class 'pandas.core.frame.DataFrame'>\n",
      "Int64Index: 942 entries, 644 to 1585\n",
      "Data columns (total 7 columns):\n",
      " #   Column                      Non-Null Count  Dtype \n",
      "---  ------                      --------------  ----- \n",
      " 0   State Postal Code           942 non-null    object\n",
      " 1   State FIPS Code             942 non-null    int64 \n",
      " 2   District ID                 942 non-null    int64 \n",
      " 3   District Name               942 non-null    object\n",
      " 4   Estimated Total Population  942 non-null    int64 \n",
      " 5   Estimated Population 5-17   942 non-null    int64 \n",
      " 6   est_num_u17_pov             942 non-null    int64 \n",
      "dtypes: int64(5), object(2)\n",
      "memory usage: 58.9+ KB\n"
     ]
    }
   ],
   "source": [
    "cen = pd.read_excel('../../data/raw/ussd20.xls',header=2)\n",
    "cen = cen[cen['State Postal Code']=='CA']\n",
    "cen.rename(columns={'Name':'District Name'},inplace=True)\n",
    "cen.rename(columns={'Estimated number of relevant children 5 to 17 years old in poverty who are related to the householder':'est_num_u17_pov'},inplace=True)\n",
    "cen.info()"
   ]
  },
  {
   "cell_type": "code",
   "execution_count": 104,
   "id": "532f6dbf-f9ae-49eb-a192-395dbdc39a25",
   "metadata": {},
   "outputs": [
    {
     "data": {
      "text/plain": [
       "1002    indian springs elementary school district\n",
       "1028                    kern high school district\n",
       "976            healdsburg unified school district\n",
       "1303               plumas unified school district\n",
       "Name: District Name, dtype: object"
      ]
     },
     "execution_count": 104,
     "metadata": {},
     "output_type": "execute_result"
    }
   ],
   "source": [
    "# fte['District Name'] = fte['District Name'].astype(str).str.lower()\n",
    "cen['District Name'] = cen['District Name'].astype(str).str.lower()\n",
    "cen['District Name'].sample(4)"
   ]
  },
  {
   "cell_type": "code",
   "execution_count": 159,
   "id": "3e8922d8-5c3c-4c3f-a4f9-9a81a622509f",
   "metadata": {},
   "outputs": [
    {
     "data": {
      "text/html": [
       "<div>\n",
       "<style scoped>\n",
       "    .dataframe tbody tr th:only-of-type {\n",
       "        vertical-align: middle;\n",
       "    }\n",
       "\n",
       "    .dataframe tbody tr th {\n",
       "        vertical-align: top;\n",
       "    }\n",
       "\n",
       "    .dataframe thead th {\n",
       "        text-align: right;\n",
       "    }\n",
       "</style>\n",
       "<table border=\"1\" class=\"dataframe\">\n",
       "  <thead>\n",
       "    <tr style=\"text-align: right;\">\n",
       "      <th></th>\n",
       "      <th>District Name</th>\n",
       "      <th>School Name</th>\n",
       "    </tr>\n",
       "  </thead>\n",
       "  <tbody>\n",
       "    <tr>\n",
       "      <th>5317</th>\n",
       "      <td>abc unified</td>\n",
       "      <td>Aloha Elementary</td>\n",
       "    </tr>\n",
       "  </tbody>\n",
       "</table>\n",
       "</div>"
      ],
      "text/plain": [
       "     District Name       School Name\n",
       "5317   abc unified  Aloha Elementary"
      ]
     },
     "execution_count": 159,
     "metadata": {},
     "output_type": "execute_result"
    }
   ],
   "source": [
    "name = ''\n",
    "comdf[comdf['District Name'].str.startswith('abc un')][['District Name','School Name']][:4][0:1]\n"
   ]
  },
  {
   "cell_type": "code",
   "execution_count": 157,
   "id": "9067d33b-98d4-4685-ba80-566202314ec8",
   "metadata": {},
   "outputs": [
    {
     "data": {
      "text/plain": [
       "5317    abc unified\n",
       "Name: District Name, dtype: object"
      ]
     },
     "execution_count": 157,
     "metadata": {},
     "output_type": "execute_result"
    }
   ],
   "source": [
    "name = comdf[comdf['District Name']=='abc unified']['District Name'][:1]\n",
    "name"
   ]
  },
  {
   "cell_type": "code",
   "execution_count": 148,
   "id": "f7ee0919-442e-47c3-897b-e2b6c3039047",
   "metadata": {},
   "outputs": [
    {
     "data": {
      "text/html": [
       "<div>\n",
       "<style scoped>\n",
       "    .dataframe tbody tr th:only-of-type {\n",
       "        vertical-align: middle;\n",
       "    }\n",
       "\n",
       "    .dataframe tbody tr th {\n",
       "        vertical-align: top;\n",
       "    }\n",
       "\n",
       "    .dataframe thead th {\n",
       "        text-align: right;\n",
       "    }\n",
       "</style>\n",
       "<table border=\"1\" class=\"dataframe\">\n",
       "  <thead>\n",
       "    <tr style=\"text-align: right;\">\n",
       "      <th></th>\n",
       "      <th>State Postal Code</th>\n",
       "      <th>State FIPS Code</th>\n",
       "      <th>District ID</th>\n",
       "      <th>District Name</th>\n",
       "      <th>Estimated Total Population</th>\n",
       "      <th>Estimated Population 5-17</th>\n",
       "      <th>est_num_u17_pov</th>\n",
       "    </tr>\n",
       "  </thead>\n",
       "  <tbody>\n",
       "    <tr>\n",
       "      <th>644</th>\n",
       "      <td>CA</td>\n",
       "      <td>6</td>\n",
       "      <td>1620</td>\n",
       "      <td>abc unified</td>\n",
       "      <td>107291</td>\n",
       "      <td>16966</td>\n",
       "      <td>1984</td>\n",
       "    </tr>\n",
       "  </tbody>\n",
       "</table>\n",
       "</div>"
      ],
      "text/plain": [
       "    State Postal Code  State FIPS Code  District ID District Name  \\\n",
       "644                CA                6         1620  abc unified    \n",
       "\n",
       "     Estimated Total Population  Estimated Population 5-17  est_num_u17_pov  \n",
       "644                      107291                      16966             1984  "
      ]
     },
     "execution_count": 148,
     "metadata": {},
     "output_type": "execute_result"
    }
   ],
   "source": [
    "cen[cen['District Name'].str.startswith('abc un')][:4]"
   ]
  },
  {
   "cell_type": "code",
   "execution_count": 149,
   "id": "5afadb0c-3957-4b71-8b18-27efc81c3855",
   "metadata": {},
   "outputs": [
    {
     "data": {
      "text/html": [
       "<div>\n",
       "<style scoped>\n",
       "    .dataframe tbody tr th:only-of-type {\n",
       "        vertical-align: middle;\n",
       "    }\n",
       "\n",
       "    .dataframe tbody tr th {\n",
       "        vertical-align: top;\n",
       "    }\n",
       "\n",
       "    .dataframe thead th {\n",
       "        text-align: right;\n",
       "    }\n",
       "</style>\n",
       "<table border=\"1\" class=\"dataframe\">\n",
       "  <thead>\n",
       "    <tr style=\"text-align: right;\">\n",
       "      <th></th>\n",
       "      <th>State Postal Code</th>\n",
       "      <th>State FIPS Code</th>\n",
       "      <th>District ID</th>\n",
       "      <th>District Name</th>\n",
       "      <th>Estimated Total Population</th>\n",
       "      <th>Estimated Population 5-17</th>\n",
       "      <th>est_num_u17_pov</th>\n",
       "    </tr>\n",
       "  </thead>\n",
       "  <tbody>\n",
       "    <tr>\n",
       "      <th>644</th>\n",
       "      <td>CA</td>\n",
       "      <td>6</td>\n",
       "      <td>1620</td>\n",
       "      <td>abc unified</td>\n",
       "      <td>107291</td>\n",
       "      <td>16966</td>\n",
       "      <td>1984</td>\n",
       "    </tr>\n",
       "  </tbody>\n",
       "</table>\n",
       "</div>"
      ],
      "text/plain": [
       "    State Postal Code  State FIPS Code  District ID District Name  \\\n",
       "644                CA                6         1620  abc unified    \n",
       "\n",
       "     Estimated Total Population  Estimated Population 5-17  est_num_u17_pov  \n",
       "644                      107291                      16966             1984  "
      ]
     },
     "execution_count": 149,
     "metadata": {},
     "output_type": "execute_result"
    }
   ],
   "source": [
    "cen['District Name'] = cen['District Name'].str.replace('school district','')\n",
    "cen[cen['District Name'].str.startswith('abc')]"
   ]
  },
  {
   "cell_type": "code",
   "execution_count": 158,
   "id": "77b9e2c0-ed62-414d-99f3-d7223e4a287f",
   "metadata": {},
   "outputs": [
    {
     "data": {
      "text/html": [
       "<div>\n",
       "<style scoped>\n",
       "    .dataframe tbody tr th:only-of-type {\n",
       "        vertical-align: middle;\n",
       "    }\n",
       "\n",
       "    .dataframe tbody tr th {\n",
       "        vertical-align: top;\n",
       "    }\n",
       "\n",
       "    .dataframe thead th {\n",
       "        text-align: right;\n",
       "    }\n",
       "</style>\n",
       "<table border=\"1\" class=\"dataframe\">\n",
       "  <thead>\n",
       "    <tr style=\"text-align: right;\">\n",
       "      <th></th>\n",
       "      <th>State Postal Code</th>\n",
       "      <th>State FIPS Code</th>\n",
       "      <th>District ID</th>\n",
       "      <th>District Name</th>\n",
       "      <th>Estimated Total Population</th>\n",
       "      <th>Estimated Population 5-17</th>\n",
       "      <th>est_num_u17_pov</th>\n",
       "    </tr>\n",
       "  </thead>\n",
       "  <tbody>\n",
       "    <tr>\n",
       "      <th>1376</th>\n",
       "      <td>CA</td>\n",
       "      <td>6</td>\n",
       "      <td>34590</td>\n",
       "      <td>san jose unified</td>\n",
       "      <td>269171</td>\n",
       "      <td>39021</td>\n",
       "      <td>2595</td>\n",
       "    </tr>\n",
       "  </tbody>\n",
       "</table>\n",
       "</div>"
      ],
      "text/plain": [
       "     State Postal Code  State FIPS Code  District ID      District Name  \\\n",
       "1376                CA                6        34590  san jose unified    \n",
       "\n",
       "      Estimated Total Population  Estimated Population 5-17  est_num_u17_pov  \n",
       "1376                      269171                      39021             2595  "
      ]
     },
     "execution_count": 158,
     "metadata": {},
     "output_type": "execute_result"
    }
   ],
   "source": [
    "cen[cen['District Name'].str.startswith('san jose')]"
   ]
  },
  {
   "cell_type": "code",
   "execution_count": 163,
   "id": "aaaa58a5-d7aa-4f9a-acc6-c5720d437b6f",
   "metadata": {},
   "outputs": [
    {
     "data": {
      "text/html": [
       "<div>\n",
       "<style scoped>\n",
       "    .dataframe tbody tr th:only-of-type {\n",
       "        vertical-align: middle;\n",
       "    }\n",
       "\n",
       "    .dataframe tbody tr th {\n",
       "        vertical-align: top;\n",
       "    }\n",
       "\n",
       "    .dataframe thead th {\n",
       "        text-align: right;\n",
       "    }\n",
       "</style>\n",
       "<table border=\"1\" class=\"dataframe\">\n",
       "  <thead>\n",
       "    <tr style=\"text-align: right;\">\n",
       "      <th></th>\n",
       "      <th>District Name</th>\n",
       "      <th>School Name</th>\n",
       "    </tr>\n",
       "  </thead>\n",
       "  <tbody>\n",
       "    <tr>\n",
       "      <th>18270</th>\n",
       "      <td>san jose unified</td>\n",
       "      <td>Gunderson High</td>\n",
       "    </tr>\n",
       "    <tr>\n",
       "      <th>18271</th>\n",
       "      <td>san jose unified</td>\n",
       "      <td>Gunderson High</td>\n",
       "    </tr>\n",
       "    <tr>\n",
       "      <th>18272</th>\n",
       "      <td>san jose unified</td>\n",
       "      <td>Gunderson High</td>\n",
       "    </tr>\n",
       "    <tr>\n",
       "      <th>18273</th>\n",
       "      <td>san jose unified</td>\n",
       "      <td>Gunderson High</td>\n",
       "    </tr>\n",
       "  </tbody>\n",
       "</table>\n",
       "</div>"
      ],
      "text/plain": [
       "          District Name     School Name\n",
       "18270  san jose unified  Gunderson High\n",
       "18271  san jose unified  Gunderson High\n",
       "18272  san jose unified  Gunderson High\n",
       "18273  san jose unified  Gunderson High"
      ]
     },
     "execution_count": 163,
     "metadata": {},
     "output_type": "execute_result"
    }
   ],
   "source": [
    "comdf[comdf['District Name']=='san jose unified'][['District Name','School Name']][:4]"
   ]
  },
  {
   "cell_type": "code",
   "execution_count": 92,
   "id": "cb37360a-c746-4455-8fa5-b8fba406d54e",
   "metadata": {},
   "outputs": [
    {
     "data": {
      "text/plain": [
       "0    alameda county office of education\n",
       "1    alameda county office of education\n",
       "2    alameda county office of education\n",
       "3    alameda county office of education\n",
       "Name: District Name, dtype: object"
      ]
     },
     "execution_count": 92,
     "metadata": {},
     "output_type": "execute_result"
    }
   ],
   "source": [
    "comdf[comdf['District Name']=='alameda county office of education']['District Name']"
   ]
  },
  {
   "cell_type": "code",
   "execution_count": 58,
   "id": "128cb44e-244f-47b4-a3cb-84084170595f",
   "metadata": {},
   "outputs": [
    {
     "data": {
      "text/html": [
       "<div>\n",
       "<style scoped>\n",
       "    .dataframe tbody tr th:only-of-type {\n",
       "        vertical-align: middle;\n",
       "    }\n",
       "\n",
       "    .dataframe tbody tr th {\n",
       "        vertical-align: top;\n",
       "    }\n",
       "\n",
       "    .dataframe thead th {\n",
       "        text-align: right;\n",
       "    }\n",
       "</style>\n",
       "<table border=\"1\" class=\"dataframe\">\n",
       "  <thead>\n",
       "    <tr style=\"text-align: right;\">\n",
       "      <th></th>\n",
       "      <th>State Postal Code</th>\n",
       "      <th>State FIPS Code</th>\n",
       "      <th>District ID</th>\n",
       "      <th>District Name</th>\n",
       "      <th>Estimated Total Population</th>\n",
       "      <th>Estimated Population 5-17</th>\n",
       "      <th>Estimated number of relevant children 5 to 17 years old in poverty who are related to the householder</th>\n",
       "    </tr>\n",
       "  </thead>\n",
       "  <tbody>\n",
       "  </tbody>\n",
       "</table>\n",
       "</div>"
      ],
      "text/plain": [
       "Empty DataFrame\n",
       "Columns: [State Postal Code, State FIPS Code, District ID, District Name, Estimated Total Population, Estimated Population 5-17, Estimated number of relevant children 5 to 17 years old in poverty who are related to the householder]\n",
       "Index: []"
      ]
     },
     "execution_count": 58,
     "metadata": {},
     "output_type": "execute_result"
    }
   ],
   "source": [
    "cen[cen['District Name']=='alameda county office of education']"
   ]
  },
  {
   "cell_type": "code",
   "execution_count": 173,
   "id": "bcc980d6-f297-4e26-bc4d-43dc2b94524b",
   "metadata": {},
   "outputs": [
    {
     "data": {
      "text/plain": [
       "5317    abc unified\n",
       "5318    abc unified\n",
       "5319    abc unified\n",
       "Name: District Name, dtype: object"
      ]
     },
     "execution_count": 173,
     "metadata": {},
     "output_type": "execute_result"
    }
   ],
   "source": [
    "comdf[comdf['District Name']=='abc unified']['District Name'][:3]"
   ]
  },
  {
   "cell_type": "code",
   "execution_count": 182,
   "id": "fbf62aa6-6ff1-4030-b4ea-696f715c4e16",
   "metadata": {},
   "outputs": [
    {
     "data": {
      "text/plain": [
       "34"
      ]
     },
     "execution_count": 182,
     "metadata": {},
     "output_type": "execute_result"
    }
   ],
   "source": [
    "comnames=comdf['District Name']\n",
    "\n",
    "len(comnames[0])"
   ]
  },
  {
   "cell_type": "code",
   "execution_count": 187,
   "id": "53773d9e-29a5-4bff-b2ef-6ba26ae9b98f",
   "metadata": {},
   "outputs": [
    {
     "name": "stdout",
     "output_type": "stream",
     "text": [
      "abc unified\n",
      "11\n"
     ]
    },
    {
     "ename": "NameError",
     "evalue": "name 'skip' is not defined",
     "output_type": "error",
     "traceback": [
      "\u001b[0;31m---------------------------------------------------------------------------\u001b[0m",
      "\u001b[0;31mNameError\u001b[0m                                 Traceback (most recent call last)",
      "\u001b[0;32m<ipython-input-187-16820ea63c32>\u001b[0m in \u001b[0;36m<module>\u001b[0;34m\u001b[0m\n\u001b[1;32m      3\u001b[0m         \u001b[0mprint\u001b[0m\u001b[0;34m(\u001b[0m\u001b[0mi\u001b[0m\u001b[0;34m)\u001b[0m\u001b[0;34m\u001b[0m\u001b[0;34m\u001b[0m\u001b[0m\n\u001b[1;32m      4\u001b[0m         \u001b[0mprint\u001b[0m\u001b[0;34m(\u001b[0m\u001b[0mlen\u001b[0m\u001b[0;34m(\u001b[0m\u001b[0mi\u001b[0m\u001b[0;34m)\u001b[0m\u001b[0;34m)\u001b[0m\u001b[0;34m\u001b[0m\u001b[0;34m\u001b[0m\u001b[0m\n\u001b[0;32m----> 5\u001b[0;31m         \u001b[0mskip\u001b[0m\u001b[0;34m\u001b[0m\u001b[0;34m\u001b[0m\u001b[0m\n\u001b[0m",
      "\u001b[0;31mNameError\u001b[0m: name 'skip' is not defined"
     ]
    }
   ],
   "source": [
    "for i in comnames:\n",
    "    if i.startswith('abc u'):\n",
    "        print(i)\n",
    "        print(len(i))\n",
    "        skip "
   ]
  },
  {
   "cell_type": "code",
   "execution_count": 191,
   "id": "7a3162eb-45ad-4457-bd25-253d51114527",
   "metadata": {},
   "outputs": [
    {
     "name": "stdout",
     "output_type": "stream",
     "text": [
      "abc unified\n",
      "11\n"
     ]
    },
    {
     "ename": "NameError",
     "evalue": "name 'skip' is not defined",
     "output_type": "error",
     "traceback": [
      "\u001b[0;31m---------------------------------------------------------------------------\u001b[0m",
      "\u001b[0;31mNameError\u001b[0m                                 Traceback (most recent call last)",
      "\u001b[0;32m<ipython-input-191-7560f7efb249>\u001b[0m in \u001b[0;36m<module>\u001b[0;34m\u001b[0m\n\u001b[1;32m      4\u001b[0m         \u001b[0mprint\u001b[0m\u001b[0;34m(\u001b[0m\u001b[0mi\u001b[0m\u001b[0;34m)\u001b[0m\u001b[0;34m\u001b[0m\u001b[0;34m\u001b[0m\u001b[0m\n\u001b[1;32m      5\u001b[0m         \u001b[0mprint\u001b[0m\u001b[0;34m(\u001b[0m\u001b[0mlen\u001b[0m\u001b[0;34m(\u001b[0m\u001b[0mi\u001b[0m\u001b[0;34m)\u001b[0m\u001b[0;34m)\u001b[0m\u001b[0;34m\u001b[0m\u001b[0;34m\u001b[0m\u001b[0m\n\u001b[0;32m----> 6\u001b[0;31m         \u001b[0mskip\u001b[0m\u001b[0;34m\u001b[0m\u001b[0;34m\u001b[0m\u001b[0m\n\u001b[0m",
      "\u001b[0;31mNameError\u001b[0m: name 'skip' is not defined"
     ]
    }
   ],
   "source": [
    "cenname=cen['District Name']\n",
    "for i in cenname:\n",
    "    if i.startswith('abc u'):\n",
    "        print(i)\n",
    "        print(len(i))\n",
    "        skip "
   ]
  },
  {
   "cell_type": "code",
   "execution_count": 193,
   "id": "7fe49c82-ab6e-45f2-9c85-d8ec67545869",
   "metadata": {},
   "outputs": [],
   "source": [
    "## needed to remove extra blank from cen to have the two columns match - took to long"
   ]
  },
  {
   "cell_type": "code",
   "execution_count": 190,
   "id": "3c41164d-c3f2-493a-bcae-c15512c59314",
   "metadata": {},
   "outputs": [],
   "source": [
    "cen['District Name'] = cen['District Name'].str.rstrip()"
   ]
  },
  {
   "cell_type": "code",
   "execution_count": 174,
   "id": "67f30369-eadd-496f-9c1d-51b6bf973a4d",
   "metadata": {},
   "outputs": [
    {
     "data": {
      "text/html": [
       "<div>\n",
       "<style scoped>\n",
       "    .dataframe tbody tr th:only-of-type {\n",
       "        vertical-align: middle;\n",
       "    }\n",
       "\n",
       "    .dataframe tbody tr th {\n",
       "        vertical-align: top;\n",
       "    }\n",
       "\n",
       "    .dataframe thead th {\n",
       "        text-align: right;\n",
       "    }\n",
       "</style>\n",
       "<table border=\"1\" class=\"dataframe\">\n",
       "  <thead>\n",
       "    <tr style=\"text-align: right;\">\n",
       "      <th></th>\n",
       "      <th>State Postal Code</th>\n",
       "      <th>State FIPS Code</th>\n",
       "      <th>District ID</th>\n",
       "      <th>District Name</th>\n",
       "      <th>Estimated Total Population</th>\n",
       "      <th>Estimated Population 5-17</th>\n",
       "      <th>est_num_u17_pov</th>\n",
       "    </tr>\n",
       "  </thead>\n",
       "  <tbody>\n",
       "    <tr>\n",
       "      <th>644</th>\n",
       "      <td>CA</td>\n",
       "      <td>6</td>\n",
       "      <td>1620</td>\n",
       "      <td>abc unified</td>\n",
       "      <td>107291</td>\n",
       "      <td>16966</td>\n",
       "      <td>1984</td>\n",
       "    </tr>\n",
       "  </tbody>\n",
       "</table>\n",
       "</div>"
      ],
      "text/plain": [
       "    State Postal Code  State FIPS Code  District ID District Name  \\\n",
       "644                CA                6         1620  abc unified    \n",
       "\n",
       "     Estimated Total Population  Estimated Population 5-17  est_num_u17_pov  \n",
       "644                      107291                      16966             1984  "
      ]
     },
     "execution_count": 174,
     "metadata": {},
     "output_type": "execute_result"
    }
   ],
   "source": [
    "cen[cen['District Name'].str.startswith('abc')]"
   ]
  },
  {
   "cell_type": "code",
   "execution_count": 170,
   "id": "ed2b8a48-279b-4f50-ba8c-249fa504cbbd",
   "metadata": {},
   "outputs": [
    {
     "data": {
      "text/html": [
       "<div>\n",
       "<style scoped>\n",
       "    .dataframe tbody tr th:only-of-type {\n",
       "        vertical-align: middle;\n",
       "    }\n",
       "\n",
       "    .dataframe tbody tr th {\n",
       "        vertical-align: top;\n",
       "    }\n",
       "\n",
       "    .dataframe thead th {\n",
       "        text-align: right;\n",
       "    }\n",
       "</style>\n",
       "<table border=\"1\" class=\"dataframe\">\n",
       "  <thead>\n",
       "    <tr style=\"text-align: right;\">\n",
       "      <th></th>\n",
       "      <th>State Postal Code</th>\n",
       "      <th>State FIPS Code</th>\n",
       "      <th>District ID</th>\n",
       "      <th>District Name</th>\n",
       "      <th>Estimated Total Population</th>\n",
       "      <th>Estimated Population 5-17</th>\n",
       "      <th>est_num_u17_pov</th>\n",
       "    </tr>\n",
       "  </thead>\n",
       "  <tbody>\n",
       "  </tbody>\n",
       "</table>\n",
       "</div>"
      ],
      "text/plain": [
       "Empty DataFrame\n",
       "Columns: [State Postal Code, State FIPS Code, District ID, District Name, Estimated Total Population, Estimated Population 5-17, est_num_u17_pov]\n",
       "Index: []"
      ]
     },
     "execution_count": 170,
     "metadata": {},
     "output_type": "execute_result"
    }
   ],
   "source": [
    "cen[cen['District Name']=='abc unified']"
   ]
  },
  {
   "cell_type": "code",
   "execution_count": null,
   "id": "64e15635-2eae-42dd-b572-e9c068c629a4",
   "metadata": {},
   "outputs": [],
   "source": [
    "comf = district code / cen = district ID\n"
   ]
  },
  {
   "cell_type": "markdown",
   "id": "a1f6d020-d61c-4d29-aabc-eb17e3e7594b",
   "metadata": {},
   "source": [
    "## code dont match "
   ]
  },
  {
   "cell_type": "code",
   "execution_count": 192,
   "id": "159a4260-9a3a-4caf-87b5-dcf9961b0453",
   "metadata": {},
   "outputs": [
    {
     "name": "stdout",
     "output_type": "stream",
     "text": [
      "<class 'pandas.core.frame.DataFrame'>\n",
      "Int64Index: 22527 entries, 0 to 22526\n",
      "Data columns (total 53 columns):\n",
      " #   Column                                                       Non-Null Count  Dtype  \n",
      "---  ------                                                       --------------  -----  \n",
      " 0   Unnamed: 0                                                   22527 non-null  int64  \n",
      " 1   Unnamed: 0.1                                                 22527 non-null  int64  \n",
      " 2   County Code                                                  22527 non-null  int64  \n",
      " 3   District Code                                                22527 non-null  int64  \n",
      " 4   School Code                                                  22527 non-null  int64  \n",
      " 5   Test Year_x                                                  22527 non-null  int64  \n",
      " 6   Student Group ID                                             22527 non-null  int64  \n",
      " 7   Total Tested at Reporting Level                              21586 non-null  float64\n",
      " 8   Total Tested with Scores at Reporting Level                  21575 non-null  float64\n",
      " 9   Grade                                                        22527 non-null  int64  \n",
      " 10  Test ID                                                      0 non-null      float64\n",
      " 11  Students Enrolled                                            21341 non-null  float64\n",
      " 12  Students Tested                                              20489 non-null  float64\n",
      " 13  Mean Scale Score                                             13123 non-null  float64\n",
      " 14  Percentage Standard Exceeded                                 18486 non-null  float64\n",
      " 15  Percentage Standard Met                                      18486 non-null  float64\n",
      " 16  Percentage Standard Met and Above                            18486 non-null  float64\n",
      " 17  Percentage Standard Nearly Met                               18486 non-null  float64\n",
      " 18  Percentage Standard Not Met                                  18486 non-null  float64\n",
      " 19  Students with Scores                                         20478 non-null  float64\n",
      " 20  Area 1 Percentage Above Standard                             15264 non-null  float64\n",
      " 21  Area 1 Percentage Near Standard                              15264 non-null  float64\n",
      " 22  Area 1 Percentage Below Standard                             15264 non-null  float64\n",
      " 23  Area 2 Percentage Above Standard                             15264 non-null  float64\n",
      " 24  Area 2 Percentage Near Standard                              15264 non-null  float64\n",
      " 25  Area 2 Percentage Below Standard                             15264 non-null  float64\n",
      " 26  Area 3 Percentage Above Standard                             15264 non-null  float64\n",
      " 27  Area 3 Percentage Near Standard                              15264 non-null  float64\n",
      " 28  Area 3 Percentage Below Standard                             15264 non-null  float64\n",
      " 29  Area 4 Percentage Above Standard                             15264 non-null  float64\n",
      " 30  Area 4 Percentage Near Standard                              15264 non-null  float64\n",
      " 31  Area 4 Percentage Below Standard                             15264 non-null  float64\n",
      " 32  Type ID_x                                                    22527 non-null  int64  \n",
      " 33  Test Year_y                                                  22527 non-null  int64  \n",
      " 34  Type ID_y                                                    22527 non-null  int64  \n",
      " 35  County Name                                                  22527 non-null  object \n",
      " 36  District Name                                                22527 non-null  object \n",
      " 37  School Name                                                  22527 non-null  object \n",
      " 38  Zip Code                                                     22527 non-null  float64\n",
      " 39  State Name [District] Latest available year                  22527 non-null  object \n",
      " 40  State Name [District] 2020-21                                22527 non-null  object \n",
      " 41  Agency ID - NCES Assigned [District] Latest available year   22527 non-null  float64\n",
      " 42  County Name [District] 2020-21                               22527 non-null  object \n",
      " 43  Total Students, All Grades (Excludes AE) [District] 2020-21  22513 non-null  float64\n",
      " 44  Full-Time Equivalent (FTE) Teachers [District] 2020-21       22513 non-null  float64\n",
      " 45  Pupil/Teacher Ratio [District] 2020-21                       22499 non-null  float64\n",
      " 46  _merge                                                       22527 non-null  object \n",
      " 47  State Postal Code                                            22527 non-null  object \n",
      " 48  State FIPS Code                                              22527 non-null  int64  \n",
      " 49  District ID                                                  22527 non-null  int64  \n",
      " 50  Estimated Total Population                                   22527 non-null  int64  \n",
      " 51  Estimated Population 5-17                                    22527 non-null  int64  \n",
      " 52  est_num_u17_pov                                              22527 non-null  int64  \n",
      "dtypes: float64(29), int64(16), object(8)\n",
      "memory usage: 9.3+ MB\n"
     ]
    }
   ],
   "source": [
    "join = comdf.merge(cen,on='District Name',how='inner')\n",
    "join.info()"
   ]
  },
  {
   "cell_type": "code",
   "execution_count": 194,
   "id": "58fe2275-cd1d-4b16-8d33-c3d1f8022d39",
   "metadata": {},
   "outputs": [
    {
     "data": {
      "text/html": [
       "<div>\n",
       "<style scoped>\n",
       "    .dataframe tbody tr th:only-of-type {\n",
       "        vertical-align: middle;\n",
       "    }\n",
       "\n",
       "    .dataframe tbody tr th {\n",
       "        vertical-align: top;\n",
       "    }\n",
       "\n",
       "    .dataframe thead th {\n",
       "        text-align: right;\n",
       "    }\n",
       "</style>\n",
       "<table border=\"1\" class=\"dataframe\">\n",
       "  <thead>\n",
       "    <tr style=\"text-align: right;\">\n",
       "      <th></th>\n",
       "      <th>Unnamed: 0</th>\n",
       "      <th>Unnamed: 0.1</th>\n",
       "      <th>County Code</th>\n",
       "      <th>District Code</th>\n",
       "      <th>School Code</th>\n",
       "      <th>Test Year_x</th>\n",
       "      <th>Student Group ID</th>\n",
       "      <th>Total Tested at Reporting Level</th>\n",
       "      <th>Total Tested with Scores at Reporting Level</th>\n",
       "      <th>Grade</th>\n",
       "      <th>...</th>\n",
       "      <th>Total Students, All Grades (Excludes AE) [District] 2020-21</th>\n",
       "      <th>Full-Time Equivalent (FTE) Teachers [District] 2020-21</th>\n",
       "      <th>Pupil/Teacher Ratio [District] 2020-21</th>\n",
       "      <th>_merge</th>\n",
       "      <th>State Postal Code</th>\n",
       "      <th>State FIPS Code</th>\n",
       "      <th>District ID</th>\n",
       "      <th>Estimated Total Population</th>\n",
       "      <th>Estimated Population 5-17</th>\n",
       "      <th>est_num_u17_pov</th>\n",
       "    </tr>\n",
       "  </thead>\n",
       "  <tbody>\n",
       "    <tr>\n",
       "      <th>4769</th>\n",
       "      <td>5317</td>\n",
       "      <td>9020</td>\n",
       "      <td>19</td>\n",
       "      <td>64212</td>\n",
       "      <td>6010862</td>\n",
       "      <td>2021</td>\n",
       "      <td>1</td>\n",
       "      <td>7.0</td>\n",
       "      <td>7.0</td>\n",
       "      <td>6</td>\n",
       "      <td>...</td>\n",
       "      <td>19540.0</td>\n",
       "      <td>822.59</td>\n",
       "      <td>23.75</td>\n",
       "      <td>both</td>\n",
       "      <td>CA</td>\n",
       "      <td>6</td>\n",
       "      <td>1620</td>\n",
       "      <td>107291</td>\n",
       "      <td>16966</td>\n",
       "      <td>1984</td>\n",
       "    </tr>\n",
       "    <tr>\n",
       "      <th>4770</th>\n",
       "      <td>5318</td>\n",
       "      <td>9021</td>\n",
       "      <td>19</td>\n",
       "      <td>64212</td>\n",
       "      <td>6010862</td>\n",
       "      <td>2021</td>\n",
       "      <td>1</td>\n",
       "      <td>7.0</td>\n",
       "      <td>7.0</td>\n",
       "      <td>13</td>\n",
       "      <td>...</td>\n",
       "      <td>19540.0</td>\n",
       "      <td>822.59</td>\n",
       "      <td>23.75</td>\n",
       "      <td>both</td>\n",
       "      <td>CA</td>\n",
       "      <td>6</td>\n",
       "      <td>1620</td>\n",
       "      <td>107291</td>\n",
       "      <td>16966</td>\n",
       "      <td>1984</td>\n",
       "    </tr>\n",
       "    <tr>\n",
       "      <th>4771</th>\n",
       "      <td>5319</td>\n",
       "      <td>9022</td>\n",
       "      <td>19</td>\n",
       "      <td>64212</td>\n",
       "      <td>6010862</td>\n",
       "      <td>2021</td>\n",
       "      <td>1</td>\n",
       "      <td>7.0</td>\n",
       "      <td>7.0</td>\n",
       "      <td>6</td>\n",
       "      <td>...</td>\n",
       "      <td>19540.0</td>\n",
       "      <td>822.59</td>\n",
       "      <td>23.75</td>\n",
       "      <td>both</td>\n",
       "      <td>CA</td>\n",
       "      <td>6</td>\n",
       "      <td>1620</td>\n",
       "      <td>107291</td>\n",
       "      <td>16966</td>\n",
       "      <td>1984</td>\n",
       "    </tr>\n",
       "    <tr>\n",
       "      <th>4772</th>\n",
       "      <td>5320</td>\n",
       "      <td>9023</td>\n",
       "      <td>19</td>\n",
       "      <td>64212</td>\n",
       "      <td>6010862</td>\n",
       "      <td>2021</td>\n",
       "      <td>1</td>\n",
       "      <td>7.0</td>\n",
       "      <td>7.0</td>\n",
       "      <td>13</td>\n",
       "      <td>...</td>\n",
       "      <td>19540.0</td>\n",
       "      <td>822.59</td>\n",
       "      <td>23.75</td>\n",
       "      <td>both</td>\n",
       "      <td>CA</td>\n",
       "      <td>6</td>\n",
       "      <td>1620</td>\n",
       "      <td>107291</td>\n",
       "      <td>16966</td>\n",
       "      <td>1984</td>\n",
       "    </tr>\n",
       "    <tr>\n",
       "      <th>4773</th>\n",
       "      <td>5321</td>\n",
       "      <td>9024</td>\n",
       "      <td>19</td>\n",
       "      <td>64212</td>\n",
       "      <td>6010904</td>\n",
       "      <td>2021</td>\n",
       "      <td>1</td>\n",
       "      <td>16.0</td>\n",
       "      <td>16.0</td>\n",
       "      <td>6</td>\n",
       "      <td>...</td>\n",
       "      <td>19540.0</td>\n",
       "      <td>822.59</td>\n",
       "      <td>23.75</td>\n",
       "      <td>both</td>\n",
       "      <td>CA</td>\n",
       "      <td>6</td>\n",
       "      <td>1620</td>\n",
       "      <td>107291</td>\n",
       "      <td>16966</td>\n",
       "      <td>1984</td>\n",
       "    </tr>\n",
       "    <tr>\n",
       "      <th>...</th>\n",
       "      <td>...</td>\n",
       "      <td>...</td>\n",
       "      <td>...</td>\n",
       "      <td>...</td>\n",
       "      <td>...</td>\n",
       "      <td>...</td>\n",
       "      <td>...</td>\n",
       "      <td>...</td>\n",
       "      <td>...</td>\n",
       "      <td>...</td>\n",
       "      <td>...</td>\n",
       "      <td>...</td>\n",
       "      <td>...</td>\n",
       "      <td>...</td>\n",
       "      <td>...</td>\n",
       "      <td>...</td>\n",
       "      <td>...</td>\n",
       "      <td>...</td>\n",
       "      <td>...</td>\n",
       "      <td>...</td>\n",
       "      <td>...</td>\n",
       "    </tr>\n",
       "    <tr>\n",
       "      <th>4864</th>\n",
       "      <td>5412</td>\n",
       "      <td>9115</td>\n",
       "      <td>19</td>\n",
       "      <td>64212</td>\n",
       "      <td>6093447</td>\n",
       "      <td>2021</td>\n",
       "      <td>1</td>\n",
       "      <td>35.0</td>\n",
       "      <td>35.0</td>\n",
       "      <td>13</td>\n",
       "      <td>...</td>\n",
       "      <td>19540.0</td>\n",
       "      <td>822.59</td>\n",
       "      <td>23.75</td>\n",
       "      <td>both</td>\n",
       "      <td>CA</td>\n",
       "      <td>6</td>\n",
       "      <td>1620</td>\n",
       "      <td>107291</td>\n",
       "      <td>16966</td>\n",
       "      <td>1984</td>\n",
       "    </tr>\n",
       "    <tr>\n",
       "      <th>4865</th>\n",
       "      <td>5413</td>\n",
       "      <td>9116</td>\n",
       "      <td>19</td>\n",
       "      <td>64212</td>\n",
       "      <td>6093454</td>\n",
       "      <td>2021</td>\n",
       "      <td>1</td>\n",
       "      <td>32.0</td>\n",
       "      <td>32.0</td>\n",
       "      <td>6</td>\n",
       "      <td>...</td>\n",
       "      <td>19540.0</td>\n",
       "      <td>822.59</td>\n",
       "      <td>23.75</td>\n",
       "      <td>both</td>\n",
       "      <td>CA</td>\n",
       "      <td>6</td>\n",
       "      <td>1620</td>\n",
       "      <td>107291</td>\n",
       "      <td>16966</td>\n",
       "      <td>1984</td>\n",
       "    </tr>\n",
       "    <tr>\n",
       "      <th>4866</th>\n",
       "      <td>5414</td>\n",
       "      <td>9117</td>\n",
       "      <td>19</td>\n",
       "      <td>64212</td>\n",
       "      <td>6093454</td>\n",
       "      <td>2021</td>\n",
       "      <td>1</td>\n",
       "      <td>32.0</td>\n",
       "      <td>32.0</td>\n",
       "      <td>13</td>\n",
       "      <td>...</td>\n",
       "      <td>19540.0</td>\n",
       "      <td>822.59</td>\n",
       "      <td>23.75</td>\n",
       "      <td>both</td>\n",
       "      <td>CA</td>\n",
       "      <td>6</td>\n",
       "      <td>1620</td>\n",
       "      <td>107291</td>\n",
       "      <td>16966</td>\n",
       "      <td>1984</td>\n",
       "    </tr>\n",
       "    <tr>\n",
       "      <th>4867</th>\n",
       "      <td>5415</td>\n",
       "      <td>9118</td>\n",
       "      <td>19</td>\n",
       "      <td>64212</td>\n",
       "      <td>6093454</td>\n",
       "      <td>2021</td>\n",
       "      <td>1</td>\n",
       "      <td>32.0</td>\n",
       "      <td>32.0</td>\n",
       "      <td>6</td>\n",
       "      <td>...</td>\n",
       "      <td>19540.0</td>\n",
       "      <td>822.59</td>\n",
       "      <td>23.75</td>\n",
       "      <td>both</td>\n",
       "      <td>CA</td>\n",
       "      <td>6</td>\n",
       "      <td>1620</td>\n",
       "      <td>107291</td>\n",
       "      <td>16966</td>\n",
       "      <td>1984</td>\n",
       "    </tr>\n",
       "    <tr>\n",
       "      <th>4868</th>\n",
       "      <td>5416</td>\n",
       "      <td>9119</td>\n",
       "      <td>19</td>\n",
       "      <td>64212</td>\n",
       "      <td>6093454</td>\n",
       "      <td>2021</td>\n",
       "      <td>1</td>\n",
       "      <td>32.0</td>\n",
       "      <td>32.0</td>\n",
       "      <td>13</td>\n",
       "      <td>...</td>\n",
       "      <td>19540.0</td>\n",
       "      <td>822.59</td>\n",
       "      <td>23.75</td>\n",
       "      <td>both</td>\n",
       "      <td>CA</td>\n",
       "      <td>6</td>\n",
       "      <td>1620</td>\n",
       "      <td>107291</td>\n",
       "      <td>16966</td>\n",
       "      <td>1984</td>\n",
       "    </tr>\n",
       "  </tbody>\n",
       "</table>\n",
       "<p>100 rows × 53 columns</p>\n",
       "</div>"
      ],
      "text/plain": [
       "      Unnamed: 0  Unnamed: 0.1  County Code  District Code  School Code  \\\n",
       "4769        5317          9020           19          64212      6010862   \n",
       "4770        5318          9021           19          64212      6010862   \n",
       "4771        5319          9022           19          64212      6010862   \n",
       "4772        5320          9023           19          64212      6010862   \n",
       "4773        5321          9024           19          64212      6010904   \n",
       "...          ...           ...          ...            ...          ...   \n",
       "4864        5412          9115           19          64212      6093447   \n",
       "4865        5413          9116           19          64212      6093454   \n",
       "4866        5414          9117           19          64212      6093454   \n",
       "4867        5415          9118           19          64212      6093454   \n",
       "4868        5416          9119           19          64212      6093454   \n",
       "\n",
       "      Test Year_x  Student Group ID  Total Tested at Reporting Level  \\\n",
       "4769         2021                 1                              7.0   \n",
       "4770         2021                 1                              7.0   \n",
       "4771         2021                 1                              7.0   \n",
       "4772         2021                 1                              7.0   \n",
       "4773         2021                 1                             16.0   \n",
       "...           ...               ...                              ...   \n",
       "4864         2021                 1                             35.0   \n",
       "4865         2021                 1                             32.0   \n",
       "4866         2021                 1                             32.0   \n",
       "4867         2021                 1                             32.0   \n",
       "4868         2021                 1                             32.0   \n",
       "\n",
       "      Total Tested with Scores at Reporting Level  Grade  ...  \\\n",
       "4769                                          7.0      6  ...   \n",
       "4770                                          7.0     13  ...   \n",
       "4771                                          7.0      6  ...   \n",
       "4772                                          7.0     13  ...   \n",
       "4773                                         16.0      6  ...   \n",
       "...                                           ...    ...  ...   \n",
       "4864                                         35.0     13  ...   \n",
       "4865                                         32.0      6  ...   \n",
       "4866                                         32.0     13  ...   \n",
       "4867                                         32.0      6  ...   \n",
       "4868                                         32.0     13  ...   \n",
       "\n",
       "      Total Students, All Grades (Excludes AE) [District] 2020-21  \\\n",
       "4769                                            19540.0             \n",
       "4770                                            19540.0             \n",
       "4771                                            19540.0             \n",
       "4772                                            19540.0             \n",
       "4773                                            19540.0             \n",
       "...                                                 ...             \n",
       "4864                                            19540.0             \n",
       "4865                                            19540.0             \n",
       "4866                                            19540.0             \n",
       "4867                                            19540.0             \n",
       "4868                                            19540.0             \n",
       "\n",
       "      Full-Time Equivalent (FTE) Teachers [District] 2020-21  \\\n",
       "4769                                             822.59        \n",
       "4770                                             822.59        \n",
       "4771                                             822.59        \n",
       "4772                                             822.59        \n",
       "4773                                             822.59        \n",
       "...                                                 ...        \n",
       "4864                                             822.59        \n",
       "4865                                             822.59        \n",
       "4866                                             822.59        \n",
       "4867                                             822.59        \n",
       "4868                                             822.59        \n",
       "\n",
       "      Pupil/Teacher Ratio [District] 2020-21  _merge  State Postal Code  \\\n",
       "4769                                   23.75    both                 CA   \n",
       "4770                                   23.75    both                 CA   \n",
       "4771                                   23.75    both                 CA   \n",
       "4772                                   23.75    both                 CA   \n",
       "4773                                   23.75    both                 CA   \n",
       "...                                      ...     ...                ...   \n",
       "4864                                   23.75    both                 CA   \n",
       "4865                                   23.75    both                 CA   \n",
       "4866                                   23.75    both                 CA   \n",
       "4867                                   23.75    both                 CA   \n",
       "4868                                   23.75    both                 CA   \n",
       "\n",
       "      State FIPS Code  District ID  Estimated Total Population  \\\n",
       "4769                6         1620                      107291   \n",
       "4770                6         1620                      107291   \n",
       "4771                6         1620                      107291   \n",
       "4772                6         1620                      107291   \n",
       "4773                6         1620                      107291   \n",
       "...               ...          ...                         ...   \n",
       "4864                6         1620                      107291   \n",
       "4865                6         1620                      107291   \n",
       "4866                6         1620                      107291   \n",
       "4867                6         1620                      107291   \n",
       "4868                6         1620                      107291   \n",
       "\n",
       "      Estimated Population 5-17  est_num_u17_pov  \n",
       "4769                      16966             1984  \n",
       "4770                      16966             1984  \n",
       "4771                      16966             1984  \n",
       "4772                      16966             1984  \n",
       "4773                      16966             1984  \n",
       "...                         ...              ...  \n",
       "4864                      16966             1984  \n",
       "4865                      16966             1984  \n",
       "4866                      16966             1984  \n",
       "4867                      16966             1984  \n",
       "4868                      16966             1984  \n",
       "\n",
       "[100 rows x 53 columns]"
      ]
     },
     "execution_count": 194,
     "metadata": {},
     "output_type": "execute_result"
    }
   ],
   "source": [
    "join[join['District Name']=='abc unified']"
   ]
  },
  {
   "cell_type": "code",
   "execution_count": 195,
   "id": "6b84c2a8-ee3c-42d2-8580-94443ee763ca",
   "metadata": {},
   "outputs": [],
   "source": [
    "join.to_csv('../../data/processed/pov_added.csv')"
   ]
  },
  {
   "cell_type": "code",
   "execution_count": null,
   "id": "0fba24b2-3362-4ef8-bb8d-877476d46957",
   "metadata": {},
   "outputs": [],
   "source": []
  }
 ],
 "metadata": {
  "kernelspec": {
   "display_name": "Python 3",
   "language": "python",
   "name": "python3"
  },
  "language_info": {
   "codemirror_mode": {
    "name": "ipython",
    "version": 3
   },
   "file_extension": ".py",
   "mimetype": "text/x-python",
   "name": "python",
   "nbconvert_exporter": "python",
   "pygments_lexer": "ipython3",
   "version": "3.8.8"
  }
 },
 "nbformat": 4,
 "nbformat_minor": 5
}
